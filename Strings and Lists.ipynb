{
 "cells": [
  {
   "cell_type": "markdown",
   "id": "3bf7a5e7",
   "metadata": {},
   "source": [
    "## String functionality"
   ]
  },
  {
   "cell_type": "code",
   "execution_count": 1,
   "id": "019a329a",
   "metadata": {},
   "outputs": [],
   "source": [
    "s = \"Avijit\""
   ]
  },
  {
   "cell_type": "code",
   "execution_count": 2,
   "id": "a8360511",
   "metadata": {},
   "outputs": [
    {
     "data": {
      "text/plain": [
       "'Avijit Jana'"
      ]
     },
     "execution_count": 2,
     "metadata": {},
     "output_type": "execute_result"
    }
   ],
   "source": [
    "s + str(' Jana')"
   ]
  },
  {
   "cell_type": "code",
   "execution_count": 3,
   "id": "f7cabf09",
   "metadata": {},
   "outputs": [
    {
     "data": {
      "text/plain": [
       "'AvijitAvijitAvijitAvijitAvijit'"
      ]
     },
     "execution_count": 3,
     "metadata": {},
     "output_type": "execute_result"
    }
   ],
   "source": [
    "s * 5"
   ]
  },
  {
   "cell_type": "code",
   "execution_count": 4,
   "id": "9e77f1b4",
   "metadata": {},
   "outputs": [
    {
     "data": {
      "text/plain": [
       "'AVIJIT'"
      ]
     },
     "execution_count": 4,
     "metadata": {},
     "output_type": "execute_result"
    }
   ],
   "source": [
    "s.upper()"
   ]
  },
  {
   "cell_type": "code",
   "execution_count": 5,
   "id": "65103735",
   "metadata": {},
   "outputs": [
    {
     "data": {
      "text/plain": [
       "'avijit'"
      ]
     },
     "execution_count": 5,
     "metadata": {},
     "output_type": "execute_result"
    }
   ],
   "source": [
    "s.lower()"
   ]
  },
  {
   "cell_type": "code",
   "execution_count": 6,
   "id": "17481e8e",
   "metadata": {},
   "outputs": [],
   "source": [
    "a = 'My name is Avijit Jana'"
   ]
  },
  {
   "cell_type": "code",
   "execution_count": 7,
   "id": "133db5e9",
   "metadata": {},
   "outputs": [
    {
     "data": {
      "text/plain": [
       "['My', 'name', 'is', 'Avijit', 'Jana']"
      ]
     },
     "execution_count": 7,
     "metadata": {},
     "output_type": "execute_result"
    }
   ],
   "source": [
    "a.split()  ## by deafult separator"
   ]
  },
  {
   "cell_type": "code",
   "execution_count": 8,
   "id": "fa079371",
   "metadata": {},
   "outputs": [
    {
     "data": {
      "text/plain": [
       "list"
      ]
     },
     "execution_count": 8,
     "metadata": {},
     "output_type": "execute_result"
    }
   ],
   "source": [
    "type(a.split())"
   ]
  },
  {
   "cell_type": "code",
   "execution_count": 9,
   "id": "86fb5242",
   "metadata": {},
   "outputs": [
    {
     "data": {
      "text/plain": [
       "('My name is ', 'A', 'vijit Jana')"
      ]
     },
     "execution_count": 9,
     "metadata": {},
     "output_type": "execute_result"
    }
   ],
   "source": [
    "a.partition('A')   ## give some argument"
   ]
  },
  {
   "cell_type": "code",
   "execution_count": 10,
   "id": "6426ba15",
   "metadata": {},
   "outputs": [
    {
     "data": {
      "text/plain": [
       "tuple"
      ]
     },
     "execution_count": 10,
     "metadata": {},
     "output_type": "execute_result"
    }
   ],
   "source": [
    "type(a.partition('A'))   "
   ]
  },
  {
   "cell_type": "code",
   "execution_count": 11,
   "id": "a4a83f44",
   "metadata": {},
   "outputs": [],
   "source": [
    "a = 'dfljfjfjergjigdfg'"
   ]
  },
  {
   "cell_type": "code",
   "execution_count": 12,
   "id": "f271d09a",
   "metadata": {},
   "outputs": [
    {
     "data": {
      "text/plain": [
       "12"
      ]
     },
     "execution_count": 12,
     "metadata": {},
     "output_type": "execute_result"
    }
   ],
   "source": [
    "a.find('i')"
   ]
  },
  {
   "cell_type": "code",
   "execution_count": 13,
   "id": "6c007f1b",
   "metadata": {},
   "outputs": [
    {
     "data": {
      "text/plain": [
       "-1"
      ]
     },
     "execution_count": 13,
     "metadata": {},
     "output_type": "execute_result"
    }
   ],
   "source": [
    "a.find('z')  ## z are not available"
   ]
  },
  {
   "cell_type": "code",
   "execution_count": 14,
   "id": "c45848bc",
   "metadata": {},
   "outputs": [],
   "source": [
    "f = \"oerfoffg\""
   ]
  },
  {
   "cell_type": "code",
   "execution_count": 15,
   "id": "74c9aae8",
   "metadata": {},
   "outputs": [
    {
     "data": {
      "text/plain": [
       "'AAAAAAAAAAAAAAAAAAAAAoerfoffgAAAAAAAAAAAAAAAAAAAAA'"
      ]
     },
     "execution_count": 15,
     "metadata": {},
     "output_type": "execute_result"
    }
   ],
   "source": [
    "f.center(50,'A')"
   ]
  },
  {
   "cell_type": "code",
   "execution_count": 16,
   "id": "c51e7de6",
   "metadata": {},
   "outputs": [
    {
     "data": {
      "text/plain": [
       "'My name is Avijit Jana'"
      ]
     },
     "execution_count": 16,
     "metadata": {},
     "output_type": "execute_result"
    }
   ],
   "source": [
    "'My name is {} Jana'. format('Avijit')"
   ]
  },
  {
   "cell_type": "code",
   "execution_count": 17,
   "id": "1d6046af",
   "metadata": {},
   "outputs": [
    {
     "name": "stdout",
     "output_type": "stream",
     "text": [
      "please give your nameAvijit\n"
     ]
    },
    {
     "data": {
      "text/plain": [
       "'My name is Avijit '"
      ]
     },
     "execution_count": 17,
     "metadata": {},
     "output_type": "execute_result"
    }
   ],
   "source": [
    "a = input('please give your name')\n",
    "\n",
    "\"My name is {} \".format(a)"
   ]
  },
  {
   "cell_type": "code",
   "execution_count": 18,
   "id": "5749ebf4",
   "metadata": {},
   "outputs": [],
   "source": [
    "d = 'Hallo'"
   ]
  },
  {
   "cell_type": "code",
   "execution_count": 19,
   "id": "bd3eafd6",
   "metadata": {},
   "outputs": [
    {
     "data": {
      "text/plain": [
       "True"
      ]
     },
     "execution_count": 19,
     "metadata": {},
     "output_type": "execute_result"
    }
   ],
   "source": [
    "d.isalnum()"
   ]
  },
  {
   "cell_type": "code",
   "execution_count": 20,
   "id": "2d1867a0",
   "metadata": {},
   "outputs": [
    {
     "data": {
      "text/plain": [
       "True"
      ]
     },
     "execution_count": 20,
     "metadata": {},
     "output_type": "execute_result"
    }
   ],
   "source": [
    "d.isascii()"
   ]
  },
  {
   "cell_type": "code",
   "execution_count": 21,
   "id": "cd4d16c3",
   "metadata": {},
   "outputs": [
    {
     "data": {
      "text/plain": [
       "False"
      ]
     },
     "execution_count": 21,
     "metadata": {},
     "output_type": "execute_result"
    }
   ],
   "source": [
    "d.isspace()"
   ]
  },
  {
   "cell_type": "code",
   "execution_count": 22,
   "id": "143e579e",
   "metadata": {},
   "outputs": [
    {
     "data": {
      "text/plain": [
       "True"
      ]
     },
     "execution_count": 22,
     "metadata": {},
     "output_type": "execute_result"
    }
   ],
   "source": [
    "d.isalpha()"
   ]
  },
  {
   "cell_type": "code",
   "execution_count": 23,
   "id": "7f58890b",
   "metadata": {},
   "outputs": [
    {
     "data": {
      "text/plain": [
       "True"
      ]
     },
     "execution_count": 23,
     "metadata": {},
     "output_type": "execute_result"
    }
   ],
   "source": [
    "d.isidentifier()"
   ]
  },
  {
   "cell_type": "code",
   "execution_count": 24,
   "id": "ac7e8ccb",
   "metadata": {},
   "outputs": [
    {
     "data": {
      "text/plain": [
       "False"
      ]
     },
     "execution_count": 24,
     "metadata": {},
     "output_type": "execute_result"
    }
   ],
   "source": [
    "d.isupper()"
   ]
  },
  {
   "cell_type": "code",
   "execution_count": 25,
   "id": "1b1d82cd",
   "metadata": {},
   "outputs": [
    {
     "data": {
      "text/plain": [
       "5"
      ]
     },
     "execution_count": 25,
     "metadata": {},
     "output_type": "execute_result"
    }
   ],
   "source": [
    "len(d)"
   ]
  },
  {
   "cell_type": "markdown",
   "id": "940eb2aa",
   "metadata": {},
   "source": [
    "## List"
   ]
  },
  {
   "cell_type": "code",
   "execution_count": 26,
   "id": "ac4edc83",
   "metadata": {},
   "outputs": [],
   "source": [
    "a = [1,2,3,4,5,'Hallo','avi',4.6,[4,3,54]]\n",
    "b = [4,5,6,4,34,'jana']"
   ]
  },
  {
   "cell_type": "code",
   "execution_count": 27,
   "id": "c83dc53b",
   "metadata": {},
   "outputs": [
    {
     "data": {
      "text/plain": [
       "[1, 2, 3, 4, 5, 'Hallo', 'avi', 4.6, [4, 3, 54]]"
      ]
     },
     "execution_count": 27,
     "metadata": {},
     "output_type": "execute_result"
    }
   ],
   "source": [
    "a"
   ]
  },
  {
   "cell_type": "code",
   "execution_count": 28,
   "id": "b97f7c65",
   "metadata": {},
   "outputs": [
    {
     "name": "stdout",
     "output_type": "stream",
     "text": [
      "1\n",
      "2\n",
      "3\n",
      "4\n",
      "5\n",
      "Hallo\n",
      "avi\n",
      "4.6\n",
      "[4, 3, 54]\n"
     ]
    }
   ],
   "source": [
    "for i in a:\n",
    "    print(i)"
   ]
  },
  {
   "cell_type": "code",
   "execution_count": 29,
   "id": "c9d86b60",
   "metadata": {},
   "outputs": [],
   "source": [
    "m = []\n",
    "for i in a:\n",
    "    m.append(i)"
   ]
  },
  {
   "cell_type": "code",
   "execution_count": 30,
   "id": "c708e2b4",
   "metadata": {},
   "outputs": [
    {
     "data": {
      "text/plain": [
       "[1, 2, 3, 4, 5, 'Hallo', 'avi', 4.6, [4, 3, 54]]"
      ]
     },
     "execution_count": 30,
     "metadata": {},
     "output_type": "execute_result"
    }
   ],
   "source": [
    "m"
   ]
  },
  {
   "cell_type": "code",
   "execution_count": 31,
   "id": "fda89b72",
   "metadata": {},
   "outputs": [
    {
     "data": {
      "text/plain": [
       "[1, 2, 3, 4, 5, 'Hallo', 'avi', 4.6, [4, 3, 54], 4, 5, 6, 4, 34, 'jana']"
      ]
     },
     "execution_count": 31,
     "metadata": {},
     "output_type": "execute_result"
    }
   ],
   "source": [
    "a + b"
   ]
  },
  {
   "cell_type": "code",
   "execution_count": 32,
   "id": "af8561de",
   "metadata": {},
   "outputs": [
    {
     "data": {
      "text/plain": [
       "[]"
      ]
     },
     "execution_count": 32,
     "metadata": {},
     "output_type": "execute_result"
    }
   ],
   "source": [
    "(a+b)*0"
   ]
  },
  {
   "cell_type": "code",
   "execution_count": 33,
   "id": "2505552c",
   "metadata": {},
   "outputs": [
    {
     "data": {
      "text/plain": [
       "[4, 5, 6, 4, 34, 'jana', 'Avijit']"
      ]
     },
     "execution_count": 33,
     "metadata": {},
     "output_type": "execute_result"
    }
   ],
   "source": [
    "b + ['Avijit']"
   ]
  },
  {
   "cell_type": "code",
   "execution_count": 34,
   "id": "f4acf5dd",
   "metadata": {},
   "outputs": [
    {
     "data": {
      "text/plain": [
       "['a', 'v', 'i', 'j', 'i', 't']"
      ]
     },
     "execution_count": 34,
     "metadata": {},
     "output_type": "execute_result"
    }
   ],
   "source": [
    "list('avijit') ## Iterable object"
   ]
  },
  {
   "cell_type": "code",
   "execution_count": 35,
   "id": "60ed1459",
   "metadata": {},
   "outputs": [
    {
     "data": {
      "text/plain": [
       "['avijit']"
      ]
     },
     "execution_count": 35,
     "metadata": {},
     "output_type": "execute_result"
    }
   ],
   "source": [
    "list([\"avijit\"])"
   ]
  },
  {
   "cell_type": "code",
   "execution_count": 36,
   "id": "ea351f2c",
   "metadata": {},
   "outputs": [],
   "source": [
    "b.append('Avijit')  ## add after the last element"
   ]
  },
  {
   "cell_type": "code",
   "execution_count": 37,
   "id": "9e991e8d",
   "metadata": {},
   "outputs": [
    {
     "data": {
      "text/plain": [
       "[4, 5, 6, 4, 34, 'jana', 'Avijit']"
      ]
     },
     "execution_count": 37,
     "metadata": {},
     "output_type": "execute_result"
    }
   ],
   "source": [
    "b"
   ]
  },
  {
   "cell_type": "code",
   "execution_count": 38,
   "id": "4b09000c",
   "metadata": {},
   "outputs": [],
   "source": [
    "b.insert(3,'Avi') ## add by positioning"
   ]
  },
  {
   "cell_type": "code",
   "execution_count": 39,
   "id": "8a9d798c",
   "metadata": {},
   "outputs": [
    {
     "data": {
      "text/plain": [
       "[4, 5, 6, 'Avi', 4, 34, 'jana', 'Avijit']"
      ]
     },
     "execution_count": 39,
     "metadata": {},
     "output_type": "execute_result"
    }
   ],
   "source": [
    "b"
   ]
  },
  {
   "cell_type": "code",
   "execution_count": 40,
   "id": "72f193cf",
   "metadata": {},
   "outputs": [],
   "source": [
    "b.insert(-1,'adsfdf')"
   ]
  },
  {
   "cell_type": "code",
   "execution_count": 41,
   "id": "479bb06d",
   "metadata": {},
   "outputs": [
    {
     "data": {
      "text/plain": [
       "[4, 5, 6, 'Avi', 4, 34, 'jana', 'adsfdf', 'Avijit']"
      ]
     },
     "execution_count": 41,
     "metadata": {},
     "output_type": "execute_result"
    }
   ],
   "source": [
    "b"
   ]
  },
  {
   "cell_type": "code",
   "execution_count": 42,
   "id": "cd32cad8",
   "metadata": {},
   "outputs": [
    {
     "data": {
      "text/plain": [
       "'Avijit'"
      ]
     },
     "execution_count": 42,
     "metadata": {},
     "output_type": "execute_result"
    }
   ],
   "source": [
    "b.pop()  ## last index"
   ]
  },
  {
   "cell_type": "code",
   "execution_count": 43,
   "id": "3d47a897",
   "metadata": {},
   "outputs": [
    {
     "data": {
      "text/plain": [
       "[4, 5, 6, 'Avi', 4, 34, 'jana', 'adsfdf']"
      ]
     },
     "execution_count": 43,
     "metadata": {},
     "output_type": "execute_result"
    }
   ],
   "source": [
    "b"
   ]
  },
  {
   "cell_type": "code",
   "execution_count": 44,
   "id": "4c9732e7",
   "metadata": {},
   "outputs": [
    {
     "data": {
      "text/plain": [
       "'Avi'"
      ]
     },
     "execution_count": 44,
     "metadata": {},
     "output_type": "execute_result"
    }
   ],
   "source": [
    "b.pop(3)"
   ]
  },
  {
   "cell_type": "code",
   "execution_count": 45,
   "id": "57591752",
   "metadata": {},
   "outputs": [
    {
     "data": {
      "text/plain": [
       "[4, 5, 6, 4, 34, 'jana', 'adsfdf']"
      ]
     },
     "execution_count": 45,
     "metadata": {},
     "output_type": "execute_result"
    }
   ],
   "source": [
    "b"
   ]
  },
  {
   "cell_type": "code",
   "execution_count": 46,
   "id": "c49f3fd5",
   "metadata": {},
   "outputs": [],
   "source": [
    "b.reverse()   ## permenent changes"
   ]
  },
  {
   "cell_type": "code",
   "execution_count": 47,
   "id": "09691954",
   "metadata": {},
   "outputs": [
    {
     "data": {
      "text/plain": [
       "['adsfdf', 'jana', 34, 4, 6, 5, 4]"
      ]
     },
     "execution_count": 47,
     "metadata": {},
     "output_type": "execute_result"
    }
   ],
   "source": [
    "b"
   ]
  },
  {
   "cell_type": "code",
   "execution_count": 48,
   "id": "9f4e3ddb",
   "metadata": {},
   "outputs": [
    {
     "data": {
      "text/plain": [
       "[4, 5, 6, 4, 34, 'jana', 'adsfdf']"
      ]
     },
     "execution_count": 48,
     "metadata": {},
     "output_type": "execute_result"
    }
   ],
   "source": [
    "b[::-1]"
   ]
  },
  {
   "cell_type": "code",
   "execution_count": 49,
   "id": "bff2d62d",
   "metadata": {},
   "outputs": [
    {
     "ename": "TypeError",
     "evalue": "'<' not supported between instances of 'int' and 'str'",
     "output_type": "error",
     "traceback": [
      "\u001b[1;31m---------------------------------------------------------------------------\u001b[0m",
      "\u001b[1;31mTypeError\u001b[0m                                 Traceback (most recent call last)",
      "\u001b[1;32m<ipython-input-49-b8c00efa69e8>\u001b[0m in \u001b[0;36m<module>\u001b[1;34m\u001b[0m\n\u001b[1;32m----> 1\u001b[1;33m \u001b[0mb\u001b[0m\u001b[1;33m.\u001b[0m\u001b[0msort\u001b[0m\u001b[1;33m(\u001b[0m\u001b[1;33m)\u001b[0m\u001b[1;33m\u001b[0m\u001b[1;33m\u001b[0m\u001b[0m\n\u001b[0m",
      "\u001b[1;31mTypeError\u001b[0m: '<' not supported between instances of 'int' and 'str'"
     ]
    }
   ],
   "source": [
    "b.sort()"
   ]
  },
  {
   "cell_type": "code",
   "execution_count": 50,
   "id": "7d813fed",
   "metadata": {},
   "outputs": [],
   "source": [
    "n = [4,5,6,3,2,6,7]"
   ]
  },
  {
   "cell_type": "code",
   "execution_count": 51,
   "id": "64bef16d",
   "metadata": {},
   "outputs": [],
   "source": [
    "n.sort()"
   ]
  },
  {
   "cell_type": "code",
   "execution_count": 52,
   "id": "95652e93",
   "metadata": {},
   "outputs": [
    {
     "data": {
      "text/plain": [
       "[2, 3, 4, 5, 6, 6, 7]"
      ]
     },
     "execution_count": 52,
     "metadata": {},
     "output_type": "execute_result"
    }
   ],
   "source": [
    "n"
   ]
  },
  {
   "cell_type": "code",
   "execution_count": 53,
   "id": "f7ea827b",
   "metadata": {},
   "outputs": [],
   "source": [
    "m = [3,2,5,3,'Avi','Jana']"
   ]
  },
  {
   "cell_type": "code",
   "execution_count": 54,
   "id": "32e8703d",
   "metadata": {},
   "outputs": [
    {
     "ename": "TypeError",
     "evalue": "'<' not supported between instances of 'str' and 'int'",
     "output_type": "error",
     "traceback": [
      "\u001b[1;31m---------------------------------------------------------------------------\u001b[0m",
      "\u001b[1;31mTypeError\u001b[0m                                 Traceback (most recent call last)",
      "\u001b[1;32m<ipython-input-54-4e1c035d7ab9>\u001b[0m in \u001b[0;36m<module>\u001b[1;34m\u001b[0m\n\u001b[1;32m----> 1\u001b[1;33m \u001b[0mm\u001b[0m\u001b[1;33m.\u001b[0m\u001b[0msort\u001b[0m\u001b[1;33m(\u001b[0m\u001b[1;33m)\u001b[0m\u001b[1;33m\u001b[0m\u001b[1;33m\u001b[0m\u001b[0m\n\u001b[0m",
      "\u001b[1;31mTypeError\u001b[0m: '<' not supported between instances of 'str' and 'int'"
     ]
    }
   ],
   "source": [
    "m.sort()"
   ]
  },
  {
   "cell_type": "code",
   "execution_count": 55,
   "id": "73f2c85d",
   "metadata": {},
   "outputs": [],
   "source": [
    "a = [2,3,2,54,23,34,23]\n",
    "b = [32,4342,123,53,23,23,23,2323]\n",
    "c = [3,34,23,12,53,23,23]\n",
    "\n",
    "d = [a,b,c]"
   ]
  },
  {
   "cell_type": "code",
   "execution_count": 56,
   "id": "0f2f52e0",
   "metadata": {},
   "outputs": [
    {
     "data": {
      "text/plain": [
       "[[2, 3, 2, 54, 23, 34, 23],\n",
       " [32, 4342, 123, 53, 23, 23, 23, 2323],\n",
       " [3, 34, 23, 12, 53, 23, 23]]"
      ]
     },
     "execution_count": 56,
     "metadata": {},
     "output_type": "execute_result"
    }
   ],
   "source": [
    "d"
   ]
  },
  {
   "cell_type": "code",
   "execution_count": 71,
   "id": "630ceaac",
   "metadata": {},
   "outputs": [
    {
     "data": {
      "text/plain": [
       "[4, 5, 2, 2, [5, 2, 6], [4, 0]]"
      ]
     },
     "execution_count": 71,
     "metadata": {},
     "output_type": "execute_result"
    }
   ],
   "source": [
    "## append\n",
    "h = [4,5,2,2,[5,2,6]]\n",
    "h.append([4,0])\n",
    "h"
   ]
  },
  {
   "cell_type": "code",
   "execution_count": 72,
   "id": "6408821b",
   "metadata": {},
   "outputs": [
    {
     "data": {
      "text/plain": [
       "[3, 4, 5, [6, 7, 8], 4, 0]"
      ]
     },
     "execution_count": 72,
     "metadata": {},
     "output_type": "execute_result"
    }
   ],
   "source": [
    "# extend\n",
    "h = [3,4,5,[6,7,8]]\n",
    "h.extend([4,0])\n",
    "h"
   ]
  },
  {
   "cell_type": "code",
   "execution_count": 57,
   "id": "4f960382",
   "metadata": {},
   "outputs": [
    {
     "data": {
      "text/plain": [
       "[3, 34, 23, 12, 53, 23, 23]"
      ]
     },
     "execution_count": 57,
     "metadata": {},
     "output_type": "execute_result"
    }
   ],
   "source": [
    "d[-1]"
   ]
  },
  {
   "cell_type": "code",
   "execution_count": 58,
   "id": "48c38266",
   "metadata": {},
   "outputs": [
    {
     "data": {
      "text/plain": [
       "[3, 23, 53, 23]"
      ]
     },
     "execution_count": 58,
     "metadata": {},
     "output_type": "execute_result"
    }
   ],
   "source": [
    "d[-1][::2]"
   ]
  },
  {
   "cell_type": "code",
   "execution_count": 59,
   "id": "1167b15c",
   "metadata": {},
   "outputs": [],
   "source": [
    "g = [4,2,1,6,2,6,7,8]\n",
    "h = [6,2,7,2,6]\n",
    "i = [3,2,7,2]"
   ]
  },
  {
   "cell_type": "code",
   "execution_count": 60,
   "id": "49252ced",
   "metadata": {},
   "outputs": [],
   "source": [
    "d = [g,h,i]"
   ]
  },
  {
   "cell_type": "code",
   "execution_count": 61,
   "id": "e76d4946",
   "metadata": {},
   "outputs": [
    {
     "data": {
      "text/plain": [
       "[[4, 2, 1, 6, 2, 6, 7, 8], [6, 2, 7, 2, 6], [3, 2, 7, 2]]"
      ]
     },
     "execution_count": 61,
     "metadata": {},
     "output_type": "execute_result"
    }
   ],
   "source": [
    "d"
   ]
  },
  {
   "cell_type": "code",
   "execution_count": 62,
   "id": "ef46ca48",
   "metadata": {},
   "outputs": [],
   "source": [
    "m = []\n",
    "d[::-1]\n",
    "\n",
    "for b in d:\n",
    "    m.append(b[::-1])"
   ]
  },
  {
   "cell_type": "code",
   "execution_count": 63,
   "id": "d4825f8a",
   "metadata": {},
   "outputs": [
    {
     "data": {
      "text/plain": [
       "[[8, 7, 6, 2, 6, 1, 2, 4], [6, 2, 7, 2, 6], [2, 7, 2, 3]]"
      ]
     },
     "execution_count": 63,
     "metadata": {},
     "output_type": "execute_result"
    }
   ],
   "source": [
    "m"
   ]
  },
  {
   "cell_type": "code",
   "execution_count": 64,
   "id": "9247f28b",
   "metadata": {},
   "outputs": [
    {
     "data": {
      "text/plain": [
       "[[4, 2, 1, 6, 2, 6, 7, 8], [6, 2, 7, 2, 6], [3, 2, 7, 2]]"
      ]
     },
     "execution_count": 64,
     "metadata": {},
     "output_type": "execute_result"
    }
   ],
   "source": [
    "d"
   ]
  },
  {
   "cell_type": "code",
   "execution_count": 65,
   "id": "38e6842a",
   "metadata": {},
   "outputs": [
    {
     "data": {
      "text/plain": [
       "[1, 7, 7]"
      ]
     },
     "execution_count": 65,
     "metadata": {},
     "output_type": "execute_result"
    }
   ],
   "source": [
    "e = []   # print 3rd position every list\n",
    "\n",
    "for b in d:\n",
    "    e.append(b[2])\n",
    "e"
   ]
  },
  {
   "cell_type": "code",
   "execution_count": 79,
   "id": "935b51f3",
   "metadata": {},
   "outputs": [
    {
     "data": {
      "text/plain": [
       "[234, 234, 4, 23, 23, 2, 4, [3, 23, 545, 23, 65, 3]]"
      ]
     },
     "execution_count": 79,
     "metadata": {},
     "output_type": "execute_result"
    }
   ],
   "source": [
    "g = [234,234,4,23,23,2,4,[3,23,545,23,65,3]]\n",
    "g"
   ]
  },
  {
   "cell_type": "code",
   "execution_count": 80,
   "id": "ad58f613",
   "metadata": {},
   "outputs": [],
   "source": [
    "for i in g:\n",
    "    if i == 23:\n",
    "        g.remove(23)"
   ]
  },
  {
   "cell_type": "code",
   "execution_count": 73,
   "id": "5ab7d577",
   "metadata": {},
   "outputs": [
    {
     "data": {
      "text/plain": [
       "[[234, 234, 4, 23, 23, 2, 4], [3, 23, 545, 23, 65, 3], [23, 43, 23, 64, 5]]"
      ]
     },
     "execution_count": 73,
     "metadata": {},
     "output_type": "execute_result"
    }
   ],
   "source": [
    "g"
   ]
  },
  {
   "cell_type": "code",
   "execution_count": 84,
   "id": "0e245481",
   "metadata": {},
   "outputs": [
    {
     "data": {
      "text/plain": [
       "[234, 234, 4, 23, 2, 4, [3, 23, 545, 23, 65, 3]]"
      ]
     },
     "execution_count": 84,
     "metadata": {},
     "output_type": "execute_result"
    }
   ],
   "source": [
    "g"
   ]
  },
  {
   "cell_type": "code",
   "execution_count": 86,
   "id": "38d4c284",
   "metadata": {},
   "outputs": [
    {
     "name": "stdout",
     "output_type": "stream",
     "text": [
      "not able to remove\n",
      "not able to remove\n",
      "not able to remove\n",
      "not able to remove\n",
      "not able to remove\n"
     ]
    }
   ],
   "source": [
    "for i in g:\n",
    "    if i == 23:\n",
    "        g.remove(23)\n",
    "    elif type(i) == list:\n",
    "        i.remove(23)\n",
    "    else: \n",
    "        print(\"not able to remove\")"
   ]
  },
  {
   "cell_type": "code",
   "execution_count": 87,
   "id": "43ce3610",
   "metadata": {},
   "outputs": [
    {
     "data": {
      "text/plain": [
       "[234, 234, 4, 2, 4, [3, 545, 65, 3]]"
      ]
     },
     "execution_count": 87,
     "metadata": {},
     "output_type": "execute_result"
    }
   ],
   "source": [
    " g"
   ]
  }
 ],
 "metadata": {
  "kernelspec": {
   "display_name": "Python 3",
   "language": "python",
   "name": "python3"
  },
  "language_info": {
   "codemirror_mode": {
    "name": "ipython",
    "version": 3
   },
   "file_extension": ".py",
   "mimetype": "text/x-python",
   "name": "python",
   "nbconvert_exporter": "python",
   "pygments_lexer": "ipython3",
   "version": "3.8.8"
  }
 },
 "nbformat": 4,
 "nbformat_minor": 5
}
